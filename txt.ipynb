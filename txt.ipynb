{
 "cells": [
  {
   "cell_type": "code",
   "execution_count": 1,
   "metadata": {},
   "outputs": [],
   "source": [
    "import json\n",
    "import os"
   ]
  },
  {
   "cell_type": "code",
   "execution_count": 2,
   "metadata": {},
   "outputs": [],
   "source": [
    "def extract_line(val: dict):\n",
    "    if(val[\"attributes\"].get(\"name\", 0)):\n",
    "        return f\"{val['attributes']['name'].strip()}:\\n{val['attributes']['content'].strip()}\\n\\n\"\n",
    "    else:\n",
    "        return f\"{val['attributes']['content'].strip()}\\n\\n\"\n",
    "\n",
    "def extract_lines(file_path: str):\n",
    "    lines = None\n",
    "    with open(file_path, 'r') as file:\n",
    "        json_data = json.load(file)\n",
    "        json_filtered = list(filter(lambda sub_json: sub_json[\"prop\"] == \"name\", json_data[\"storyList\"]))\n",
    "        lines = list(map(extract_line, json_filtered))\n",
    "    return \"\".join(lines)"
   ]
  },
  {
   "cell_type": "code",
   "execution_count": 4,
   "metadata": {},
   "outputs": [],
   "source": [
    "def find_files(directory, ext = \".json\"):\n",
    "    json_files = []\n",
    "    for root, dirs, files in os.walk(directory):\n",
    "        for file in files:\n",
    "            if file.endswith(ext):\n",
    "                json_files.append(os.path.join(root, file))\n",
    "    return json_files"
   ]
  },
  {
   "cell_type": "code",
   "execution_count": 5,
   "metadata": {},
   "outputs": [
    {
     "data": {
      "text/plain": [
       "989"
      ]
     },
     "execution_count": 5,
     "metadata": {},
     "output_type": "execute_result"
    }
   ],
   "source": [
    "json_files = find_files(\"./en_US/gamedata/story/\", \".json\")\n",
    "len(json_files)"
   ]
  },
  {
   "cell_type": "code",
   "execution_count": 6,
   "metadata": {},
   "outputs": [],
   "source": [
    "for json_file in json_files:\n",
    "    with open(json_file.replace(\".json\", \".txt\"), \"w\") as out:\n",
    "        out.write(extract_lines(json_file))"
   ]
  },
  {
   "cell_type": "code",
   "execution_count": 7,
   "metadata": {},
   "outputs": [
    {
     "data": {
      "text/plain": [
       "989"
      ]
     },
     "execution_count": 7,
     "metadata": {},
     "output_type": "execute_result"
    }
   ],
   "source": [
    "text_files = find_files('./en_US/gamedata/story/', '.txt')\n",
    "len(text_files)"
   ]
  },
  {
   "cell_type": "code",
   "execution_count": 8,
   "metadata": {},
   "outputs": [],
   "source": [
    "with open(\"arknights.txt\", \"w+\") as outfile:\n",
    "    for text_file in text_files:\n",
    "        with open(text_file, \"r\") as infile:\n",
    "            outfile.write(infile.read())"
   ]
  }
 ],
 "metadata": {
  "kernelspec": {
   "display_name": "dsc80_39",
   "language": "python",
   "name": "python3"
  },
  "language_info": {
   "codemirror_mode": {
    "name": "ipython",
    "version": 3
   },
   "file_extension": ".py",
   "mimetype": "text/x-python",
   "name": "python",
   "nbconvert_exporter": "python",
   "pygments_lexer": "ipython3",
   "version": "3.8.16"
  },
  "orig_nbformat": 4
 },
 "nbformat": 4,
 "nbformat_minor": 2
}
